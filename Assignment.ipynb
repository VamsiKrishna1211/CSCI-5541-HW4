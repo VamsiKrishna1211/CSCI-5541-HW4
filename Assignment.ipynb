{
 "cells": [
  {
   "cell_type": "code",
   "execution_count": 1,
   "metadata": {},
   "outputs": [],
   "source": [
    "from transformers import AutoTokenizer, AutoModelForCausalLM\n",
    "import torch"
   ]
  },
  {
   "cell_type": "code",
   "execution_count": null,
   "metadata": {},
   "outputs": [
    {
     "name": "stdout",
     "output_type": "stream",
     "text": [
      "Using cuda device\n"
     ]
    },
    {
     "name": "stderr",
     "output_type": "stream",
     "text": [
      "Setting `pad_token_id` to `eos_token_id`:50256 for open-end generation.\n",
      "Setting `pad_token_id` to `eos_token_id`:50256 for open-end generation.\n",
      "Setting `pad_token_id` to `eos_token_id`:50256 for open-end generation.\n",
      "/home/vamsik1211/Data/miniconda3/envs/nlp-class/lib/python3.12/site-packages/transformers/generation/configuration_utils.py:634: UserWarning: `do_sample` is set to `False`. However, `top_p` is set to `0.92` -- this flag is only used in sample-based generation modes. You should set `do_sample=True` or unset `top_p`.\n",
      "  warnings.warn(\n",
      "Setting `pad_token_id` to `eos_token_id`:50256 for open-end generation.\n"
     ]
    }
   ],
   "source": [
    "device = \"cuda\" if torch.cuda.is_available() else \"cpu\"\n",
    "print(f\"Using {device} device\")\n",
    "\n",
    "tokenizer = AutoTokenizer.from_pretrained(\"gpt2\")\n",
    "model = AutoModelForCausalLM.from_pretrained(\"gpt2\").to(device)\n",
    "\n",
    "prompt = \"Today I believe I can fly\"\n",
    "input_ids = tokenizer(prompt, return_tensors=\"pt\")\n",
    "input_ids = {k: v.to(device) for k, v in input_ids.items()}\n",
    "\n",
    "# Greedy search\n",
    "outputs = model.generate(**input_ids, max_length=30)\n",
    "greedy_out = tokenizer.batch_decode(outputs, skip_special_tokens=False)\n",
    "\n",
    "# Beam search\n",
    "outputs = model.generate(**input_ids, max_length=30, num_beams=5, early_stopping=True)\n",
    "beam_out = tokenizer.batch_decode(outputs, skip_special_tokens=False)\n",
    "\n",
    "# Top k sampling\n",
    "outputs = model.generate(**input_ids, max_length=30, do_sample=True, top_k=50)\n",
    "top_k_out = tokenizer.batch_decode(outputs, skip_special_tokens=False)\n",
    "\n",
    "# Top p sampling\n",
    "outputs = model.generate(**input_ids, max_length=30, do_sample=True, top_p=0.92)\n",
    "top_p_out = tokenizer.batch_decode(outputs, skip_special_tokens=False)"
   ]
  },
  {
   "cell_type": "code",
   "execution_count": 13,
   "metadata": {},
   "outputs": [
    {
     "data": {
      "text/plain": [
       "['Today I believe I can fly. I can fly. I can fly. I can fly. I can fly. I can fly. I can fly']"
      ]
     },
     "execution_count": 13,
     "metadata": {},
     "output_type": "execute_result"
    }
   ],
   "source": [
    "top_p_out"
   ]
  },
  {
   "cell_type": "code",
   "execution_count": null,
   "metadata": {},
   "outputs": [
    {
     "data": {
      "text/plain": [
       "tensor([[8888,  314, 1975,  314,  460, 6129]])"
      ]
     },
     "execution_count": 7,
     "metadata": {},
     "output_type": "execute_result"
    }
   ],
   "source": [
    "input_ids = tokenizer(prompt, return_tensors=\"pt\")\n",
    "input_ids\n"
   ]
  }
 ],
 "metadata": {
  "kernelspec": {
   "display_name": "nlp-class",
   "language": "python",
   "name": "python3"
  },
  "language_info": {
   "codemirror_mode": {
    "name": "ipython",
    "version": 3
   },
   "file_extension": ".py",
   "mimetype": "text/x-python",
   "name": "python",
   "nbconvert_exporter": "python",
   "pygments_lexer": "ipython3",
   "version": "3.12.9"
  }
 },
 "nbformat": 4,
 "nbformat_minor": 2
}
